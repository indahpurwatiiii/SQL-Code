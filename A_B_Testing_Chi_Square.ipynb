{
  "metadata": {
    "kernelspec": {
      "language": "python",
      "display_name": "Python 3",
      "name": "python3"
    },
    "language_info": {
      "name": "python",
      "version": "3.10.13",
      "mimetype": "text/x-python",
      "codemirror_mode": {
        "name": "ipython",
        "version": 3
      },
      "pygments_lexer": "ipython3",
      "nbconvert_exporter": "python",
      "file_extension": ".py"
    },
    "kaggle": {
      "accelerator": "none",
      "dataSources": [
        {
          "sourceId": 2289044,
          "sourceType": "datasetVersion",
          "datasetId": 1379469
        }
      ],
      "dockerImageVersionId": 30646,
      "isInternetEnabled": false,
      "language": "python",
      "sourceType": "notebook",
      "isGpuEnabled": false
    },
    "colab": {
      "name": "A/B Testing - Chi Square",
      "provenance": [],
      "include_colab_link": true
    }
  },
  "nbformat_minor": 0,
  "nbformat": 4,
  "cells": [
    {
      "cell_type": "markdown",
      "metadata": {
        "id": "view-in-github",
        "colab_type": "text"
      },
      "source": [
        "<a href=\"https://colab.research.google.com/github/indahpurwatiiii/SQL-Code/blob/main/A_B_Testing_Chi_Square.ipynb\" target=\"_parent\"><img src=\"https://colab.research.google.com/assets/colab-badge.svg\" alt=\"Open In Colab\"/></a>"
      ]
    },
    {
      "source": [
        "\n",
        "# IMPORTANT: RUN THIS CELL IN ORDER TO IMPORT YOUR KAGGLE DATA SOURCES\n",
        "# TO THE CORRECT LOCATION (/kaggle/input) IN YOUR NOTEBOOK,\n",
        "# THEN FEEL FREE TO DELETE THIS CELL.\n",
        "# NOTE: THIS NOTEBOOK ENVIRONMENT DIFFERS FROM KAGGLE'S PYTHON\n",
        "# ENVIRONMENT SO THERE MAY BE MISSING LIBRARIES USED BY YOUR\n",
        "# NOTEBOOK.\n",
        "\n",
        "import os\n",
        "import sys\n",
        "from tempfile import NamedTemporaryFile\n",
        "from urllib.request import urlopen\n",
        "from urllib.parse import unquote, urlparse\n",
        "from urllib.error import HTTPError\n",
        "from zipfile import ZipFile\n",
        "import tarfile\n",
        "import shutil\n",
        "\n",
        "CHUNK_SIZE = 40960\n",
        "DATA_SOURCE_MAPPING = 'ecommerce-ab-testing:https%3A%2F%2Fstorage.googleapis.com%2Fkaggle-data-sets%2F1379469%2F2289044%2Fbundle%2Farchive.zip%3FX-Goog-Algorithm%3DGOOG4-RSA-SHA256%26X-Goog-Credential%3Dgcp-kaggle-com%2540kaggle-161607.iam.gserviceaccount.com%252F20240213%252Fauto%252Fstorage%252Fgoog4_request%26X-Goog-Date%3D20240213T060639Z%26X-Goog-Expires%3D259200%26X-Goog-SignedHeaders%3Dhost%26X-Goog-Signature%3D510dd3fa1b1ab330423d2e7ee63576dfb1689d7be9cb3cd0715e2b2ac61d78c2adad9b275511d886ccc1f35a799c24c435ba2952ac0826d64fee1655034c3bc152ed5b9c1c0580237c37691111b828208258f7a8ab5afbfc872f0a3da6f6feea60047d805d41c656b8c36fe09fa0f3c790f0388b6210fab83f983fdf0237f2a489ba190cbef4d9601b6d1681716b997ec4af8bd7cecc65d80084dde13c3c9f5b30bb459512edf9b025663919c0a1c48ed27251a50fb2fc3527eba901ad4d8201d7b1b464406ab56012284386fae875a83fd84a00c522316666d39823fa53cd30614cc55a9df499f4fc59c65716e7e26a695c657fcd5743d50a3b70b4ebbe74ac'\n",
        "\n",
        "KAGGLE_INPUT_PATH='/kaggle/input'\n",
        "KAGGLE_WORKING_PATH='/kaggle/working'\n",
        "KAGGLE_SYMLINK='kaggle'\n",
        "\n",
        "!umount /kaggle/input/ 2> /dev/null\n",
        "shutil.rmtree('/kaggle/input', ignore_errors=True)\n",
        "os.makedirs(KAGGLE_INPUT_PATH, 0o777, exist_ok=True)\n",
        "os.makedirs(KAGGLE_WORKING_PATH, 0o777, exist_ok=True)\n",
        "\n",
        "try:\n",
        "  os.symlink(KAGGLE_INPUT_PATH, os.path.join(\"..\", 'input'), target_is_directory=True)\n",
        "except FileExistsError:\n",
        "  pass\n",
        "try:\n",
        "  os.symlink(KAGGLE_WORKING_PATH, os.path.join(\"..\", 'working'), target_is_directory=True)\n",
        "except FileExistsError:\n",
        "  pass\n",
        "\n",
        "for data_source_mapping in DATA_SOURCE_MAPPING.split(','):\n",
        "    directory, download_url_encoded = data_source_mapping.split(':')\n",
        "    download_url = unquote(download_url_encoded)\n",
        "    filename = urlparse(download_url).path\n",
        "    destination_path = os.path.join(KAGGLE_INPUT_PATH, directory)\n",
        "    try:\n",
        "        with urlopen(download_url) as fileres, NamedTemporaryFile() as tfile:\n",
        "            total_length = fileres.headers['content-length']\n",
        "            print(f'Downloading {directory}, {total_length} bytes compressed')\n",
        "            dl = 0\n",
        "            data = fileres.read(CHUNK_SIZE)\n",
        "            while len(data) > 0:\n",
        "                dl += len(data)\n",
        "                tfile.write(data)\n",
        "                done = int(50 * dl / int(total_length))\n",
        "                sys.stdout.write(f\"\\r[{'=' * done}{' ' * (50-done)}] {dl} bytes downloaded\")\n",
        "                sys.stdout.flush()\n",
        "                data = fileres.read(CHUNK_SIZE)\n",
        "            if filename.endswith('.zip'):\n",
        "              with ZipFile(tfile) as zfile:\n",
        "                zfile.extractall(destination_path)\n",
        "            else:\n",
        "              with tarfile.open(tfile.name) as tarfile:\n",
        "                tarfile.extractall(destination_path)\n",
        "            print(f'\\nDownloaded and uncompressed: {directory}')\n",
        "    except HTTPError as e:\n",
        "        print(f'Failed to load (likely expired) {download_url} to path {destination_path}')\n",
        "        continue\n",
        "    except OSError as e:\n",
        "        print(f'Failed to load {download_url} to path {destination_path}')\n",
        "        continue\n",
        "\n",
        "print('Data source import complete.')\n"
      ],
      "metadata": {
        "id": "cJt0ZSHPEymr"
      },
      "cell_type": "code",
      "outputs": [],
      "execution_count": null
    },
    {
      "cell_type": "code",
      "source": [
        "# This Python 3 environment comes with many helpful analytics libraries installed\n",
        "# It is defined by the kaggle/python Docker image: https://github.com/kaggle/docker-python\n",
        "# For example, here's several helpful packages to load\n",
        "\n",
        "import numpy as np # linear algebra\n",
        "import pandas as pd # data processing, CSV file I/O (e.g. pd.read_csv)\n",
        "\n",
        "# Input data files are available in the read-only \"../input/\" directory\n",
        "# For example, running this (by clicking run or pressing Shift+Enter) will list all files under the input directory\n",
        "\n",
        "import os\n",
        "for dirname, _, filenames in os.walk('/kaggle/input'):\n",
        "    for filename in filenames:\n",
        "        print(os.path.join(dirname, filename))\n",
        "\n",
        "# You can write up to 20GB to the current directory (/kaggle/working/) that gets preserved as output when you create a version using \"Save & Run All\"\n",
        "# You can also write temporary files to /kaggle/temp/, but they won't be saved outside of the current session"
      ],
      "metadata": {
        "_uuid": "8f2839f25d086af736a60e9eeb907d3b93b6e0e5",
        "_cell_guid": "b1076dfc-b9ad-4769-8c92-a6c4dae69d19",
        "execution": {
          "iopub.status.busy": "2024-02-12T15:26:58.852618Z",
          "iopub.execute_input": "2024-02-12T15:26:58.853098Z",
          "iopub.status.idle": "2024-02-12T15:26:58.867012Z",
          "shell.execute_reply.started": "2024-02-12T15:26:58.853063Z",
          "shell.execute_reply": "2024-02-12T15:26:58.865775Z"
        },
        "trusted": true,
        "id": "fjtr9MB3Eymy",
        "outputId": "4db26c4e-aa6d-4149-b416-54ffc442ce72"
      },
      "execution_count": null,
      "outputs": [
        {
          "name": "stdout",
          "text": "/kaggle/input/ecommerce-ab-testing/ab_test.csv\n/kaggle/input/ecommerce-ab-testing/countries_ab.csv\n",
          "output_type": "stream"
        }
      ]
    },
    {
      "cell_type": "code",
      "source": [
        "import pandas as pd\n",
        "import numpy as np\n",
        "\n",
        "# NEW LIBRARY\n",
        "from scipy.stats import ttest_ind # for t-test\n",
        "from scipy.stats import chi2_contingency # for chi-square test"
      ],
      "metadata": {
        "execution": {
          "iopub.status.busy": "2024-02-12T15:26:58.869333Z",
          "iopub.execute_input": "2024-02-12T15:26:58.869845Z",
          "iopub.status.idle": "2024-02-12T15:26:58.876224Z",
          "shell.execute_reply.started": "2024-02-12T15:26:58.869814Z",
          "shell.execute_reply": "2024-02-12T15:26:58.874588Z"
        },
        "trusted": true,
        "id": "s2o1BzfLEym1"
      },
      "execution_count": null,
      "outputs": []
    },
    {
      "cell_type": "code",
      "source": [
        "data=pd.read_csv('/kaggle/input/ecommerce-ab-testing/ab_test.csv')\n",
        "data.info()"
      ],
      "metadata": {
        "execution": {
          "iopub.status.busy": "2024-02-12T15:26:58.877653Z",
          "iopub.execute_input": "2024-02-12T15:26:58.877997Z",
          "iopub.status.idle": "2024-02-12T15:26:59.445839Z",
          "shell.execute_reply.started": "2024-02-12T15:26:58.877968Z",
          "shell.execute_reply": "2024-02-12T15:26:59.445013Z"
        },
        "trusted": true,
        "id": "Oyl2KD9lEym3",
        "outputId": "0ac62775-4d7b-4553-db7f-dd24701b330d"
      },
      "execution_count": null,
      "outputs": [
        {
          "name": "stdout",
          "text": "<class 'pandas.core.frame.DataFrame'>\nRangeIndex: 294478 entries, 0 to 294477\nData columns (total 5 columns):\n #   Column     Non-Null Count   Dtype \n---  ------     --------------   ----- \n 0   id         294478 non-null  int64 \n 1   time       294478 non-null  object\n 2   con_treat  294478 non-null  object\n 3   page       294478 non-null  object\n 4   converted  294478 non-null  int64 \ndtypes: int64(2), object(3)\nmemory usage: 11.2+ MB\n",
          "output_type": "stream"
        }
      ]
    },
    {
      "cell_type": "code",
      "source": [
        "data=data.drop_duplicates('id')\n",
        "data.info()"
      ],
      "metadata": {
        "execution": {
          "iopub.status.busy": "2024-02-12T15:26:59.447903Z",
          "iopub.execute_input": "2024-02-12T15:26:59.448746Z",
          "iopub.status.idle": "2024-02-12T15:26:59.591866Z",
          "shell.execute_reply.started": "2024-02-12T15:26:59.448714Z",
          "shell.execute_reply": "2024-02-12T15:26:59.590686Z"
        },
        "trusted": true,
        "id": "sWxdsUxkEym4",
        "outputId": "923f0d0f-e7a1-4923-95b6-a188c3c269f8"
      },
      "execution_count": null,
      "outputs": [
        {
          "name": "stdout",
          "text": "<class 'pandas.core.frame.DataFrame'>\nIndex: 290584 entries, 0 to 294477\nData columns (total 5 columns):\n #   Column     Non-Null Count   Dtype \n---  ------     --------------   ----- \n 0   id         290584 non-null  int64 \n 1   time       290584 non-null  object\n 2   con_treat  290584 non-null  object\n 3   page       290584 non-null  object\n 4   converted  290584 non-null  int64 \ndtypes: int64(2), object(3)\nmemory usage: 13.3+ MB\n",
          "output_type": "stream"
        }
      ]
    },
    {
      "cell_type": "code",
      "source": [
        "control_group = data[data['con_treat'] == 'control']\n",
        "treatment_group = data[data['con_treat'] == 'treatment']\n",
        "control_group.info()\n",
        "treatment_group.info()"
      ],
      "metadata": {
        "execution": {
          "iopub.status.busy": "2024-02-12T15:26:59.594386Z",
          "iopub.execute_input": "2024-02-12T15:26:59.595127Z",
          "iopub.status.idle": "2024-02-12T15:26:59.849561Z",
          "shell.execute_reply.started": "2024-02-12T15:26:59.595086Z",
          "shell.execute_reply": "2024-02-12T15:26:59.848431Z"
        },
        "trusted": true,
        "id": "qAd872TkEym6",
        "outputId": "90654a05-c3cc-4561-e2e2-bab4d1dd5975"
      },
      "execution_count": null,
      "outputs": [
        {
          "name": "stdout",
          "text": "<class 'pandas.core.frame.DataFrame'>\nIndex: 145232 entries, 0 to 294476\nData columns (total 5 columns):\n #   Column     Non-Null Count   Dtype \n---  ------     --------------   ----- \n 0   id         145232 non-null  int64 \n 1   time       145232 non-null  object\n 2   con_treat  145232 non-null  object\n 3   page       145232 non-null  object\n 4   converted  145232 non-null  int64 \ndtypes: int64(2), object(3)\nmemory usage: 6.6+ MB\n<class 'pandas.core.frame.DataFrame'>\nIndex: 145352 entries, 2 to 294477\nData columns (total 5 columns):\n #   Column     Non-Null Count   Dtype \n---  ------     --------------   ----- \n 0   id         145352 non-null  int64 \n 1   time       145352 non-null  object\n 2   con_treat  145352 non-null  object\n 3   page       145352 non-null  object\n 4   converted  145352 non-null  int64 \ndtypes: int64(2), object(3)\nmemory usage: 6.7+ MB\n",
          "output_type": "stream"
        }
      ]
    },
    {
      "cell_type": "markdown",
      "source": [
        "# EDA"
      ],
      "metadata": {
        "id": "hJq9Yg50Eym7"
      }
    },
    {
      "cell_type": "code",
      "source": [
        "import matplotlib.pyplot as plt\n",
        "import seaborn as sns\n",
        "\n",
        "# Visualisasi Distribusi 'page'\n",
        "plt.figure(figsize=(8, 5))\n",
        "sns.countplot(x='converted', data=data, palette='viridis')\n",
        "plt.title('Distribusi Page')\n",
        "plt.xlabel('Page')\n",
        "plt.ylabel('Jumlah')\n",
        "plt.show()"
      ],
      "metadata": {
        "execution": {
          "iopub.status.busy": "2024-02-12T15:26:59.853554Z",
          "iopub.execute_input": "2024-02-12T15:26:59.85401Z",
          "iopub.status.idle": "2024-02-12T15:27:00.109258Z",
          "shell.execute_reply.started": "2024-02-12T15:26:59.853971Z",
          "shell.execute_reply": "2024-02-12T15:27:00.107871Z"
        },
        "trusted": true,
        "id": "cV58qK9xEym-",
        "outputId": "a44d94a4-1964-4eee-a9a1-48c270cd1b32"
      },
      "execution_count": null,
      "outputs": [
        {
          "output_type": "display_data",
          "data": {
            "text/plain": "<Figure size 800x500 with 1 Axes>",
            "image/png": "[encoded data removed]"
          },
          "metadata": {}
        }
      ]
    },
    {
      "cell_type": "code",
      "source": [
        "import matplotlib.pyplot as plt\n",
        "import seaborn as sns\n",
        "\n",
        "# Visualisasi Distribusi 'page' berdasarkan 'converted'\n",
        "plt.figure(figsize=(8, 5))\n",
        "ax = sns.countplot(x='page', hue='converted', data=data, palette='viridis')\n",
        "\n",
        "# Menambahkan deskripsi jumlah di atas setiap batang\n",
        "for p in ax.patches:\n",
        "    ax.annotate(f'{int(p.get_height())}', (p.get_x() + p.get_width() / 2., p.get_height()),\n",
        "                ha='center', va='bottom')\n",
        "\n",
        "plt.title('Distribusi Page berdasarkan Converted')\n",
        "plt.xlabel('Page')\n",
        "plt.ylabel('Jumlah')\n",
        "plt.legend(title='Converted', labels=['Not Converted', 'Converted'])\n",
        "plt.show()\n"
      ],
      "metadata": {
        "execution": {
          "iopub.status.busy": "2024-02-12T15:29:16.907127Z",
          "iopub.execute_input": "2024-02-12T15:29:16.908274Z",
          "iopub.status.idle": "2024-02-12T15:29:17.534387Z",
          "shell.execute_reply.started": "2024-02-12T15:29:16.908237Z",
          "shell.execute_reply": "2024-02-12T15:29:17.533131Z"
        },
        "trusted": true,
        "id": "lqUpODNZEynA",
        "outputId": "8fcdda54-2856-402c-c8d6-a96379ae9b2b"
      },
      "execution_count": null,
      "outputs": [
        {
          "output_type": "display_data",
          "data": {
            "text/plain": "<Figure size 800x500 with 1 Axes>",
            "image/png": "[encoded data removed]"
          },
          "metadata": {}
        }
      ]
    },
    {
      "cell_type": "markdown",
      "source": [
        "# A/B TESTING"
      ],
      "metadata": {
        "id": "dnYyP_3zEynC"
      }
    },
    {
      "cell_type": "code",
      "source": [
        "proporsi_konversi_control = control_group['converted'].mean()\n",
        "proporsi_konversi_treatment = treatment_group['converted'].mean()\n",
        "\n",
        "print(f\"Proporsi Konversi Control: {proporsi_konversi_control:.2%}\")\n",
        "print(f\"Proporsi Konversi Treatment: {proporsi_konversi_treatment:.2%}\")\n"
      ],
      "metadata": {
        "execution": {
          "iopub.status.busy": "2024-02-12T15:27:00.749908Z",
          "iopub.execute_input": "2024-02-12T15:27:00.750275Z",
          "iopub.status.idle": "2024-02-12T15:27:00.759026Z",
          "shell.execute_reply.started": "2024-02-12T15:27:00.750247Z",
          "shell.execute_reply": "2024-02-12T15:27:00.757545Z"
        },
        "trusted": true,
        "id": "CXpPryyaEynE",
        "outputId": "ef64062e-ba44-4804-dfe5-9b0e42d59eed"
      },
      "execution_count": null,
      "outputs": [
        {
          "name": "stdout",
          "text": "Proporsi Konversi Control: 12.03%\nProporsi Konversi Treatment: 11.88%\n",
          "output_type": "stream"
        }
      ]
    },
    {
      "cell_type": "code",
      "source": [
        "from scipy.stats import chi2_contingency\n",
        "\n",
        "contingency_table = pd.crosstab(data['con_treat'], data['converted'])\n",
        "chi2, p, _, _ = chi2_contingency(contingency_table)\n",
        "\n",
        "print(f\"Chi-square value: {chi2}\")\n",
        "print(f\"P-value: {p}\")"
      ],
      "metadata": {
        "execution": {
          "iopub.status.busy": "2024-02-12T15:27:00.760663Z",
          "iopub.execute_input": "2024-02-12T15:27:00.76106Z",
          "iopub.status.idle": "2024-02-12T15:27:00.856708Z",
          "shell.execute_reply.started": "2024-02-12T15:27:00.761028Z",
          "shell.execute_reply": "2024-02-12T15:27:00.855601Z"
        },
        "trusted": true,
        "id": "koYyIWrrEynG",
        "outputId": "c892f1a0-01a4-43cb-f8cd-34d4e1421c81"
      },
      "execution_count": null,
      "outputs": [
        {
          "name": "stdout",
          "text": "Chi-square value: 1.446408325649827\nP-value: 0.22910514252060252\n",
          "output_type": "stream"
        }
      ]
    }
  ]
}